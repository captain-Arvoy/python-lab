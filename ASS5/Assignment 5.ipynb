{
 "cells": [
  {
   "cell_type": "markdown",
   "id": "457e421c-7a17-4c33-b48d-e9f8fc25e418",
   "metadata": {},
   "source": [
    "# Question 1 "
   ]
  },
  {
   "cell_type": "code",
   "execution_count": 1,
   "id": "d8743bed-c870-4763-8e96-16ed664687f2",
   "metadata": {},
   "outputs": [
    {
     "name": "stdin",
     "output_type": "stream",
     "text": [
      "Enter the key:  1\n",
      "Enter the value:  a\n",
      "Enter the key:  2\n",
      "Enter the value:  b\n",
      "Enter the key:  3\n",
      "Enter the value:  c\n",
      "Enter the key:  4\n",
      "Enter the value:  d\n",
      "Enter the key:  5\n",
      "Enter the value:  e\n"
     ]
    },
    {
     "name": "stdout",
     "output_type": "stream",
     "text": [
      "------------\n"
     ]
    },
    {
     "name": "stdin",
     "output_type": "stream",
     "text": [
      "Enter the key:  6\n",
      "Enter the value:  f\n",
      "Enter the key:  7\n",
      "Enter the value:  g\n",
      "Enter the key:  8\n",
      "Enter the value:  h\n",
      "Enter the key:  9\n",
      "Enter the value:  i\n",
      "Enter the key:  10\n",
      "Enter the value:  j\n"
     ]
    },
    {
     "name": "stdout",
     "output_type": "stream",
     "text": [
      "{1: 'a', 2: 'b', 3: 'c', 4: 'd', 5: 'e', 6: 'f', 7: 'g', 8: 'h', 9: 'i', 10: 'j'}\n"
     ]
    }
   ],
   "source": [
    "dict1 = {}\n",
    "for i in range(0,5):\n",
    "    key = int(input(\"Enter the key: \"))\n",
    "    value = (input(\"Enter the value: \"))\n",
    "    dict1[key] = value\n",
    "dict2 = {}\n",
    "print(\"------------\")\n",
    "for j in range(0,5):\n",
    "    key = int(input(\"Enter the key: \"))\n",
    "    value = (input(\"Enter the value: \"))\n",
    "    dict2[key] = value\n",
    "dict1.update(dict2)\n",
    "print(dict1) "
   ]
  },
  {
   "cell_type": "markdown",
   "id": "5401ca2d-3728-4745-9e0f-ff9dcfbc9b02",
   "metadata": {},
   "source": [
    "# Question 2"
   ]
  },
  {
   "cell_type": "code",
   "execution_count": 2,
   "id": "c3cff9e3-aac2-40e3-bf40-3b6f1d24f74c",
   "metadata": {},
   "outputs": [
    {
     "name": "stdin",
     "output_type": "stream",
     "text": [
      "Enter the key:  1\n",
      "Enter the value:  a\n",
      "Enter the key:  2\n",
      "Enter the value:  b\n",
      "Enter the key:  3\n",
      "Enter the value:  c\n",
      "Enter the key:  4\n",
      "Enter the value:  d\n",
      "Enter the key:  5\n",
      "Enter the value:  e\n"
     ]
    },
    {
     "name": "stdout",
     "output_type": "stream",
     "text": [
      "key with maximum value:  5\n"
     ]
    }
   ],
   "source": [
    "dict1 = {}\n",
    "for i in range(0,5):\n",
    "    key = int(input(\"Enter the key: \")) \n",
    "    value = (input(\"Enter the value: \"))\n",
    "    dict1[key] = value\n",
    "max = list(dict1.keys())[0]\n",
    "for key,value in dict1.items():\n",
    "    if max < key:\n",
    "        max = key\n",
    "print(\"key with maximum value: \",max)\n",
    "    "
   ]
  },
  {
   "cell_type": "markdown",
   "id": "b10fa287-f047-41dc-8054-0e513c2ef1c3",
   "metadata": {},
   "source": [
    "# Question 3"
   ]
  },
  {
   "cell_type": "markdown",
   "id": "364b80d6-101b-46ff-b8fd-32475cf3405d",
   "metadata": {},
   "source": [
    "dict1 = {'a': 1,'b': 1,'c': 2,'d': 2,'e': 5}\n",
    "\n",
    "\n"
   ]
  },
  {
   "cell_type": "markdown",
   "id": "530e3a89-556c-4b52-9ac6-6930193d5858",
   "metadata": {},
   "source": [
    "# Question 4"
   ]
  },
  {
   "cell_type": "code",
   "execution_count": 3,
   "id": "8b2535b6-0dfa-4f08-b3d1-af9954c45045",
   "metadata": {},
   "outputs": [
    {
     "name": "stdout",
     "output_type": "stream",
     "text": [
      "Original Set: {1, 2, 3, 4, 5}\n",
      "Copied Set: {1, 2, 3, 4, 5}\n"
     ]
    }
   ],
   "source": [
    "def copy_set(original_set):\n",
    "    copied_set = set()\n",
    "\n",
    "    for element in original_set:\n",
    "        copied_set.add(element)\n",
    "\n",
    "    return copied_set\n",
    "\n",
    "\n",
    "input_set = {1, 2, 3, 4, 5}\n",
    "copied_set = copy_set(input_set)\n",
    "\n",
    "print(\"Original Set:\", input_set)\n",
    "print(\"Copied Set:\", copied_set)\n"
   ]
  },
  {
   "cell_type": "markdown",
   "id": "fea1311a-2fe5-4803-b88a-72b7dd299f5e",
   "metadata": {},
   "source": [
    "# Question 5"
   ]
  },
  {
   "cell_type": "code",
   "execution_count": 4,
   "id": "3b769009-b089-4213-9fdd-abed6e026e51",
   "metadata": {},
   "outputs": [
    {
     "name": "stdout",
     "output_type": "stream",
     "text": [
      "Set 1: {1, 2, 3, 4, 5}\n",
      "Set 2: {3, 4, 5, 6, 7}\n",
      "Union: {1, 2, 3, 4, 5, 6, 7}\n",
      "Intersection: {3, 4, 5}\n",
      "Difference (Set1 - Set2): {1, 2}\n",
      "Symmetric Difference: {1, 2, 6, 7}\n"
     ]
    }
   ],
   "source": [
    "def perform_set_operations(set1, set2):\n",
    "    union_result = set1.union(set2)\n",
    "    intersection_result = set1.intersection(set2)\n",
    "    difference_result = set1.difference(set2)\n",
    "    symmetric_difference_result = set1.symmetric_difference(set2)\n",
    "\n",
    "    return union_result, intersection_result, difference_result, symmetric_difference_result\n",
    "\n",
    "\n",
    "set1 = {1, 2, 3, 4, 5}\n",
    "set2 = {3, 4, 5, 6, 7}\n",
    "union_set, intersection_set, difference_set, symmetric_difference_set = perform_set_operations(set1, set2)\n",
    "\n",
    "print(\"Set 1:\", set1)\n",
    "print(\"Set 2:\", set2)\n",
    "print(\"Union:\", union_set)\n",
    "print(\"Intersection:\", intersection_set)\n",
    "print(\"Difference (Set1 - Set2):\", difference_set)\n",
    "print(\"Symmetric Difference:\", symmetric_difference_set)\n"
   ]
  },
  {
   "cell_type": "markdown",
   "id": "fbd4cd7c-4a64-4608-8545-01249b5521c1",
   "metadata": {},
   "source": [
    "# Question 6"
   ]
  },
  {
   "cell_type": "code",
   "execution_count": 5,
   "id": "9712d3bd-553d-4e5f-abdc-01d326d48a82",
   "metadata": {},
   "outputs": [
    {
     "name": "stdout",
     "output_type": "stream",
     "text": [
      "Set 1: {'apple', 'banana', 'orange'}\n",
      "Set 2: {'grape', 'banana', 'kiwi'}\n",
      "Combined Set (After Removing Duplicates): {'grape', 'orange', 'apple', 'banana', 'kiwi'}\n"
     ]
    }
   ],
   "source": [
    "def combine_and_remove_duplicates(set1, set2):\n",
    "    combined_set = set1.union(set2)\n",
    "    return combined_set\n",
    "\n",
    "\n",
    "set1 = {'apple', 'banana', 'orange'}\n",
    "set2 = {'banana', 'grape', 'kiwi'}\n",
    "result_set = combine_and_remove_duplicates(set1, set2)\n",
    "\n",
    "print(\"Set 1:\", set1)\n",
    "print(\"Set 2:\", set2)\n",
    "print(\"Combined Set (After Removing Duplicates):\", result_set)\n"
   ]
  }
 ],
 "metadata": {
  "kernelspec": {
   "display_name": "Python 3 (ipykernel)",
   "language": "python",
   "name": "python3"
  },
  "language_info": {
   "codemirror_mode": {
    "name": "ipython",
    "version": 3
   },
   "file_extension": ".py",
   "mimetype": "text/x-python",
   "name": "python",
   "nbconvert_exporter": "python",
   "pygments_lexer": "ipython3",
   "version": "3.11.6"
  }
 },
 "nbformat": 4,
 "nbformat_minor": 5
}
