{
 "cells": [
  {
   "cell_type": "markdown",
   "id": "1c6126aa-ca4a-47d4-b8ed-3918ec78f15f",
   "metadata": {},
   "source": [
    "# Assignment 3"
   ]
  },
  {
   "cell_type": "code",
   "execution_count": 4,
   "id": "ae6b84da-1fdb-42ba-9072-6fff41a63e6f",
   "metadata": {},
   "outputs": [
    {
     "name": "stdin",
     "output_type": "stream",
     "text": [
      "Enter the number:  20\n"
     ]
    },
    {
     "name": "stdout",
     "output_type": "stream",
     "text": [
      "arr =  [2, 3, 4, 5, 6, 7, 8, 9, -1, 11, -1, 13, -1, 15, -1, 17, -1, 19, -1]\n",
      "[2, 3, 4, 5, 6, 7, 8, 9, 11, 13, 15, 17, 19]\n"
     ]
    },
    {
     "name": "stdin",
     "output_type": "stream",
     "text": [
      " \n"
     ]
    }
   ],
   "source": [
    "import math\n",
    "def isPrime(number):\n",
    "    flag = True\n",
    "    prime_number = 0\n",
    "    for i in range(2,int(math.sqrt(number))):\n",
    "        if (number % i == 0):\n",
    "            flag = False\n",
    "            break\n",
    "    return number if flag else -1\n",
    "def checkTwinPrime(n):\n",
    "    arr = [isPrime(i) for i in range(2,n+1)]\n",
    "    print(\"arr = \",arr)\n",
    "    arrPrime = []\n",
    "    for i in arr:\n",
    "        if ( i != -1):\n",
    "            arrPrime.append(i)\n",
    "    print(arrPrime)\n",
    "    input(\"\")\n",
    "    for i in range(len(arrPrime) - 1):\n",
    "        if ( arrPrime[i] - arrPrime[i+1] == 2):\n",
    "            print(i)\n",
    "input_number = int(input(\"Enter the number: \"))\n",
    "checkTwinPrime(input_number)"
   ]
  },
  {
   "cell_type": "code",
   "execution_count": null,
   "id": "ad6b2331-9c08-4602-a196-89f390c12441",
   "metadata": {},
   "outputs": [],
   "source": []
  }
 ],
 "metadata": {
  "kernelspec": {
   "display_name": "Python 3 (ipykernel)",
   "language": "python",
   "name": "python3"
  },
  "language_info": {
   "codemirror_mode": {
    "name": "ipython",
    "version": 3
   },
   "file_extension": ".py",
   "mimetype": "text/x-python",
   "name": "python",
   "nbconvert_exporter": "python",
   "pygments_lexer": "ipython3",
   "version": "3.11.6"
  }
 },
 "nbformat": 4,
 "nbformat_minor": 5
}
