{
 "cells": [
  {
   "cell_type": "markdown",
   "id": "19f568d8-8be7-4d2d-8f78-b5fea74463c1",
   "metadata": {},
   "source": [
    "# questions\n",
    "## Assignment 4\n",
    "1) WAP to print the second largest and second smallest element in a list of 10 integers without using sort function\n",
    "2) WAP to create two lists first list containing 5 integers and second list containing 5 strings, print both the lists one element from each  list combined at a time.\n",
    "3) WAP to create an integer list of 20 elements increase the odd valued elements by 5.\n",
    "4) WAP to create a function that prints the first n terms of the fibonacci series without using recursion\n",
    "5) wap to create function that takes list as argument and returns the even values of the list. print the new list with even values.\n",
    "6) wap to calculate factorial of a number using recursion"
   ]
  },
  {
   "cell_type": "code",
   "execution_count": 5,
   "id": "94a040b9-552e-4c49-9886-464a444b9cad",
   "metadata": {},
   "outputs": [
    {
     "name": "stdout",
     "output_type": "stream",
     "text": [
      "second largest:  9\n",
      "second smallest:  2\n"
     ]
    }
   ],
   "source": [
    "num =[6,5,4,3,2,1,7,8,9,10]\n",
    "for i in range(0,len(num)):\n",
    "    for j in range(0,len(num) - i - 1):\n",
    "        if num[j] < num[j+1]:\n",
    "            temp = num[j+1]\n",
    "            num[j+1] = num[j]\n",
    "            num[j] = temp\n",
    "\n",
    "print(\"second largest: \",num[1])\n",
    "print(\"second smallest: \",num[len(num) - 2])"
   ]
  },
  {
   "cell_type": "code",
   "execution_count": 6,
   "id": "16a03c12-e813-46d3-a107-7383eea11f41",
   "metadata": {},
   "outputs": [
    {
     "name": "stdout",
     "output_type": "stream",
     "text": [
      "1  :  one\n",
      "2  :  two\n",
      "3  :  three\n",
      "4  :  four\n",
      "5  :  five\n"
     ]
    }
   ],
   "source": [
    "list_num = [1,2,3,4,5]\n",
    "list_string = [\"one\",\"two\",\"three\",\"four\",\"five\"]\n",
    "for i in range(0,len(list_num)):\n",
    "    print(list_num[i],\" : \",list_string[i])"
   ]
  },
  {
   "cell_type": "code",
   "execution_count": 7,
   "id": "89549a6d-6028-4eda-a27f-4052def24814",
   "metadata": {},
   "outputs": [
    {
     "name": "stdout",
     "output_type": "stream",
     "text": [
      "[6, 2, 8, 4, 10, 6, 12, 8, 14, 10, 16, 12, 18, 14, 20, 16, 22, 18, 24, 20]\n"
     ]
    }
   ],
   "source": [
    "num_list = [1,2,3,4,5,6,7,8,9,10,11,12,13,14,15,16,17,18,19,20]\n",
    "for i in range(0,len(num_list)):\n",
    "    if num_list[i] % 2 != 0:\n",
    "        num_list[i] = num_list[i] + 5\n",
    "print(num_list)"
   ]
  },
  {
   "cell_type": "code",
   "execution_count": null,
   "id": "974ccf3d-663b-40e7-967b-6ed132782056",
   "metadata": {},
   "outputs": [],
   "source": [
    "# 4) WAP to create a function that prints the first n terms of the fibonacci series without using recursion\n",
    "def fibonacci(n):"
   ]
  }
 ],
 "metadata": {
  "kernelspec": {
   "display_name": "Python 3 (ipykernel)",
   "language": "python",
   "name": "python3"
  },
  "language_info": {
   "codemirror_mode": {
    "name": "ipython",
    "version": 3
   },
   "file_extension": ".py",
   "mimetype": "text/x-python",
   "name": "python",
   "nbconvert_exporter": "python",
   "pygments_lexer": "ipython3",
   "version": "3.11.6"
  }
 },
 "nbformat": 4,
 "nbformat_minor": 5
}
